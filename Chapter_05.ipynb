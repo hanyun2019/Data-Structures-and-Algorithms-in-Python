{
 "cells": [
  {
   "cell_type": "markdown",
   "metadata": {
    "pycharm": {
     "name": "#%% md\n"
    }
   },
   "source": [
    "# Chapter 05: Array-Based Sequences"
   ]
  },
  {
   "cell_type": "markdown",
   "metadata": {
    "pycharm": {}
   },
   "source": [
    "## 5.1 Python's Sequence Types\n",
    "This chapter covers Python's \"sequence\" classes, namely the built-in **list**, **tuple**, and **str** classes.\n",
    "Significant commonality between theses classes are they support indexing to access an individual element of a sequence, using a syntax such as \n",
    "`seq[k]`, and each uses a low-level conceopt known as an **array** to represent the sequence. Regardless of this commonality,\n",
    "there is a significant difference in their abstractions that these classes represent, and in the way that instances of these classes are represented internally by Python.\n",
    "\n",
    "\n",
    "### Public Behaviors\n",
    "### Implementation Details\n",
    "### Asymptotic and Experimental Analyses\n"
   ]
  },
  {
   "cell_type": "markdown",
   "metadata": {
    "pycharm": {
     "name": "#%% md\n"
    }
   },
   "source": [
    "## 5.2 Low-Level Arrays\n",
    "It is necessary to understand low-level copmuter architecture to understand the sequence types. \n",
    "\n",
    "[MEMORY FIGURE]\n",
    "\n",
    "Eachbyte of memory is associated with a unique number that serves as its address. Memory addresses are typically coordinated\n",
    "with the physical layout of the memory system.\n",
    "\n",
    "Despite the sequential nature of the numbering system, computer can access memory by its address and that's why we call it a\n",
    "RAM(random access memory). It is just easy to retrieve byte #3845 as it is to retrieve byte #1. In other words, we can say\n",
    "any individual byte of memory can be stored or retrieved in $O(1)$ time.\n",
    "\n",
    "In general, a programming language keeps track of the association between an identifier and the memory address in which the associated value is stored.\n",
    "A group of related variables can be stored one after another in a contiguous portion of the computer's memory. We will denote such a representation as an **array**.\n",
    "\n",
    "\n",
    "### 5.2.1 Referential Arrays\n",
    "Python represents a list or tuple instance using an internal storage mechanism of array of object **references**. At the \n",
    "lowest level, what is stored is a consecutive sequence of memory addresses at which the elements of the sequence reside.\n",
    "With this, Python can handle each element in fixed-length way even though the individual items may vary the number of bits used.\n",
    "\n",
    "[Fig 5.5]\n",
    "[Fig 5.6]\n",
    "\n",
    "However, with a syntax such as `backup=list(primes)`, produces a new list that is a **shallow copy**. If elements are immutable, this point is moot. If the \n",
    "contents of the list were of a mutable type, a **deep copy**, meaning a new list with *new* elements, can be produced by using \n",
    "`deep copy` function from the `copy` module.\n",
    "\n",
    "[Summary for deepcopy and shallow copy]\n",
    "\n",
    "\n",
    "### 5.2.2 Compact Arrays in Python\n",
    "Compact array is storing the bits that represent the primary data. IT has several advantages over referential structures in terms of computing performance. Most sginificantly, the \n",
    "overall memory usage will be much lower for a compact structure because there is no overhead devoted to the explicit storage of the sequence of memory references.\n",
    "That is, a referential structure will typically use 64-bits for the memory address stored in the array, on top of whatever \n",
    "number of bits are used to represent a compact array within a string typically requires 2 bytes. If each character were \n",
    "stored independently as a one-character string, there would be significantly more bytes used. Python\n",
    "allows to query the actual number of bytes being used for primary storage of any object by using `getsizeof` function of the `sys` module.\n",
    "\n",
    "Another advantage to a compact structure for high-performance computing is that the primary data are stored consecutively in memory. Note that\n",
    "this is not the case for a referential structure. Because of the workings of the cache and memory hierarchies of computers, it is often\n",
    "advantageous to have data stored in memory near other data that might be used in the same computations.\n",
    "\n",
    "Despite the apparent inefficiencies of referential structures, we will generally be content with the convenience of Python's list and tuples in this book.\n",
    "The only place in which we consider alternatives will be in memory management section, which focuses on the impact of memory usage on data structures and algorithms. Python provides several means for creating compact arrays of various types.\n",
    "\n",
    "Primary support for compact arrays is a module named `array`. That module defines a class, also named `array`, providing compact storage for arrays of primitive data types.\n"
   ]
  },
  {
   "cell_type": "code",
   "execution_count": 1,
   "metadata": {
    "pycharm": {
     "is_executing": false,
     "metadata": false,
     "name": "#%%\n"
    }
   },
   "outputs": [
    {
     "name": "stdout",
     "output_type": "stream",
     "text": [
      "112\n",
      "84\n"
     ]
    }
   ],
   "source": [
    "import array\n",
    "import sys\n",
    "x = [1, 3, 5, 7, 9]\n",
    "print(sys.getsizeof(x))\n",
    "y = array.array('i', [1, 2, 3, 4, 5])\n",
    "print(sys.getsizeof(y))"
   ]
  },
  {
   "cell_type": "markdown",
   "metadata": {
    "pycharm": {
     "metadata": false,
     "name": "#%% md\n"
    }
   },
   "source": [
    "The public interface for the `array` class conforms mostly to that part of a Python list. However, the constructur for the `array` class\n",
    "requires a **type code** as a first parameter, which is a character  that designates the type of data that will be stored in the array.\n",
    "\n",
    "\n",
    "## 5.3 Dynamic Arrays and Amortization\n",
    "\n",
    "When creating a low-level array in a computer system, the precise size of that array bust be explcitly declared in order for the system\n",
    "to properly allocate a consecutive piece of memory for its storage.\n",
    "\n",
    "In the context of representing a PYthon `tuple` and `str` instance, it's not a problem since they are immutable, so the correct size for an \n",
    "underlying array can be fixed when the object is instantiated.\n",
    "\n",
    "However, Python's `list` class presents a more interesting abstraction. ALthough a list has a particular length when constructed, the class allows us to add elements to the list, with no apparent limit on the overall capacity of the\n",
    "list. To provide this abstraction, Python relies on an algorithm sleight of hand known as a **dynamic array**.\n",
    "\n",
    "The first key to providing the semantics of a dynamic array is that a list instance maintains an underlying array that often has greater capcity than the current lengths of the list. If the\n",
    "reserved capacity is exhausted, the class requests a new, larger array from the system, and initializes the new array so taht its prefix matches that of the existing smaller array. At that point in time,\n",
    "the old array is no longer needed, so it is reclaimed by the system.\n"
   ]
  },
  {
   "cell_type": "code",
   "execution_count": 2,
   "metadata": {
    "pycharm": {
     "is_executing": false,
     "name": "#%%\n"
    }
   },
   "outputs": [
    {
     "name": "stdout",
     "output_type": "stream",
     "text": [
      "Length:   0; size in bytes:   72\n",
      "Length:   1; size in bytes:  104\n",
      "Length:   2; size in bytes:  104\n",
      "Length:   3; size in bytes:  104\n",
      "Length:   4; size in bytes:  104\n",
      "Length:   5; size in bytes:  136\n",
      "Length:   6; size in bytes:  136\n",
      "Length:   7; size in bytes:  136\n",
      "Length:   8; size in bytes:  136\n",
      "Length:   9; size in bytes:  200\n",
      "Length:  10; size in bytes:  200\n",
      "Length:  11; size in bytes:  200\n",
      "Length:  12; size in bytes:  200\n",
      "Length:  13; size in bytes:  200\n",
      "Length:  14; size in bytes:  200\n",
      "Length:  15; size in bytes:  200\n",
      "Length:  16; size in bytes:  200\n",
      "Length:  17; size in bytes:  272\n",
      "Length:  18; size in bytes:  272\n",
      "Length:  19; size in bytes:  272\n",
      "Length:  20; size in bytes:  272\n",
      "Length:  21; size in bytes:  272\n",
      "Length:  22; size in bytes:  272\n",
      "Length:  23; size in bytes:  272\n",
      "Length:  24; size in bytes:  272\n",
      "Length:  25; size in bytes:  272\n",
      "Length:  26; size in bytes:  352\n",
      "Length:  27; size in bytes:  352\n",
      "Length:  28; size in bytes:  352\n",
      "Length:  29; size in bytes:  352\n",
      "Length:  30; size in bytes:  352\n",
      "Length:  31; size in bytes:  352\n",
      "Length:  32; size in bytes:  352\n",
      "Length:  33; size in bytes:  352\n",
      "Length:  34; size in bytes:  352\n",
      "Length:  35; size in bytes:  352\n",
      "Length:  36; size in bytes:  440\n",
      "Length:  37; size in bytes:  440\n",
      "Length:  38; size in bytes:  440\n",
      "Length:  39; size in bytes:  440\n",
      "Length:  40; size in bytes:  440\n",
      "Length:  41; size in bytes:  440\n",
      "Length:  42; size in bytes:  440\n",
      "Length:  43; size in bytes:  440\n",
      "Length:  44; size in bytes:  440\n",
      "Length:  45; size in bytes:  440\n",
      "Length:  46; size in bytes:  440\n",
      "Length:  47; size in bytes:  536\n",
      "Length:  48; size in bytes:  536\n",
      "Length:  49; size in bytes:  536\n",
      "Length:  50; size in bytes:  536\n",
      "Length:  51; size in bytes:  536\n",
      "Length:  52; size in bytes:  536\n",
      "Length:  53; size in bytes:  536\n",
      "Length:  54; size in bytes:  536\n",
      "Length:  55; size in bytes:  536\n",
      "Length:  56; size in bytes:  536\n",
      "Length:  57; size in bytes:  536\n",
      "Length:  58; size in bytes:  536\n",
      "Length:  59; size in bytes:  648\n",
      "Length:  60; size in bytes:  648\n",
      "Length:  61; size in bytes:  648\n",
      "Length:  62; size in bytes:  648\n",
      "Length:  63; size in bytes:  648\n",
      "Length:  64; size in bytes:  648\n",
      "Length:  65; size in bytes:  648\n",
      "Length:  66; size in bytes:  648\n",
      "Length:  67; size in bytes:  648\n",
      "Length:  68; size in bytes:  648\n",
      "Length:  69; size in bytes:  648\n",
      "Length:  70; size in bytes:  648\n",
      "Length:  71; size in bytes:  648\n",
      "Length:  72; size in bytes:  648\n",
      "Length:  73; size in bytes:  776\n",
      "Length:  74; size in bytes:  776\n",
      "Length:  75; size in bytes:  776\n",
      "Length:  76; size in bytes:  776\n",
      "Length:  77; size in bytes:  776\n",
      "Length:  78; size in bytes:  776\n",
      "Length:  79; size in bytes:  776\n",
      "Length:  80; size in bytes:  776\n",
      "Length:  81; size in bytes:  776\n",
      "Length:  82; size in bytes:  776\n",
      "Length:  83; size in bytes:  776\n",
      "Length:  84; size in bytes:  776\n",
      "Length:  85; size in bytes:  776\n",
      "Length:  86; size in bytes:  776\n",
      "Length:  87; size in bytes:  776\n",
      "Length:  88; size in bytes:  776\n",
      "Length:  89; size in bytes:  920\n",
      "Length:  90; size in bytes:  920\n",
      "Length:  91; size in bytes:  920\n",
      "Length:  92; size in bytes:  920\n",
      "Length:  93; size in bytes:  920\n",
      "Length:  94; size in bytes:  920\n",
      "Length:  95; size in bytes:  920\n",
      "Length:  96; size in bytes:  920\n",
      "Length:  97; size in bytes:  920\n",
      "Length:  98; size in bytes:  920\n",
      "Length:  99; size in bytes:  920\n",
      "Length: 100; size in bytes:  920\n",
      "Length: 101; size in bytes:  920\n",
      "Length: 102; size in bytes:  920\n",
      "Length: 103; size in bytes:  920\n",
      "Length: 104; size in bytes:  920\n",
      "Length: 105; size in bytes:  920\n",
      "Length: 106; size in bytes:  920\n",
      "Length: 107; size in bytes:  1080\n",
      "Length: 108; size in bytes:  1080\n",
      "Length: 109; size in bytes:  1080\n",
      "Length: 110; size in bytes:  1080\n",
      "Length: 111; size in bytes:  1080\n",
      "Length: 112; size in bytes:  1080\n",
      "Length: 113; size in bytes:  1080\n",
      "Length: 114; size in bytes:  1080\n",
      "Length: 115; size in bytes:  1080\n",
      "Length: 116; size in bytes:  1080\n",
      "Length: 117; size in bytes:  1080\n",
      "Length: 118; size in bytes:  1080\n",
      "Length: 119; size in bytes:  1080\n",
      "Length: 120; size in bytes:  1080\n",
      "Length: 121; size in bytes:  1080\n",
      "Length: 122; size in bytes:  1080\n",
      "Length: 123; size in bytes:  1080\n",
      "Length: 124; size in bytes:  1080\n",
      "Length: 125; size in bytes:  1080\n",
      "Length: 126; size in bytes:  1080\n",
      "Length: 127; size in bytes:  1256\n",
      "Length: 128; size in bytes:  1256\n",
      "Length: 129; size in bytes:  1256\n",
      "Length: 130; size in bytes:  1256\n",
      "Length: 131; size in bytes:  1256\n",
      "Length: 132; size in bytes:  1256\n",
      "Length: 133; size in bytes:  1256\n",
      "Length: 134; size in bytes:  1256\n",
      "Length: 135; size in bytes:  1256\n",
      "Length: 136; size in bytes:  1256\n",
      "Length: 137; size in bytes:  1256\n",
      "Length: 138; size in bytes:  1256\n",
      "Length: 139; size in bytes:  1256\n",
      "Length: 140; size in bytes:  1256\n",
      "Length: 141; size in bytes:  1256\n",
      "Length: 142; size in bytes:  1256\n",
      "Length: 143; size in bytes:  1256\n",
      "Length: 144; size in bytes:  1256\n",
      "Length: 145; size in bytes:  1256\n",
      "Length: 146; size in bytes:  1256\n",
      "Length: 147; size in bytes:  1256\n",
      "Length: 148; size in bytes:  1256\n",
      "Length: 149; size in bytes:  1456\n",
      "Length: 150; size in bytes:  1456\n",
      "Length: 151; size in bytes:  1456\n",
      "Length: 152; size in bytes:  1456\n",
      "Length: 153; size in bytes:  1456\n",
      "Length: 154; size in bytes:  1456\n",
      "Length: 155; size in bytes:  1456\n",
      "Length: 156; size in bytes:  1456\n",
      "Length: 157; size in bytes:  1456\n",
      "Length: 158; size in bytes:  1456\n",
      "Length: 159; size in bytes:  1456\n",
      "Length: 160; size in bytes:  1456\n",
      "Length: 161; size in bytes:  1456\n",
      "Length: 162; size in bytes:  1456\n",
      "Length: 163; size in bytes:  1456\n",
      "Length: 164; size in bytes:  1456\n",
      "Length: 165; size in bytes:  1456\n",
      "Length: 166; size in bytes:  1456\n",
      "Length: 167; size in bytes:  1456\n",
      "Length: 168; size in bytes:  1456\n",
      "Length: 169; size in bytes:  1456\n",
      "Length: 170; size in bytes:  1456\n",
      "Length: 171; size in bytes:  1456\n",
      "Length: 172; size in bytes:  1456\n",
      "Length: 173; size in bytes:  1456\n",
      "Length: 174; size in bytes:  1680\n",
      "Length: 175; size in bytes:  1680\n",
      "Length: 176; size in bytes:  1680\n",
      "Length: 177; size in bytes:  1680\n",
      "Length: 178; size in bytes:  1680\n",
      "Length: 179; size in bytes:  1680\n",
      "Length: 180; size in bytes:  1680\n",
      "Length: 181; size in bytes:  1680\n",
      "Length: 182; size in bytes:  1680\n",
      "Length: 183; size in bytes:  1680\n",
      "Length: 184; size in bytes:  1680\n",
      "Length: 185; size in bytes:  1680\n",
      "Length: 186; size in bytes:  1680\n",
      "Length: 187; size in bytes:  1680\n",
      "Length: 188; size in bytes:  1680\n",
      "Length: 189; size in bytes:  1680\n",
      "Length: 190; size in bytes:  1680\n",
      "Length: 191; size in bytes:  1680\n",
      "Length: 192; size in bytes:  1680\n",
      "Length: 193; size in bytes:  1680\n",
      "Length: 194; size in bytes:  1680\n",
      "Length: 195; size in bytes:  1680\n",
      "Length: 196; size in bytes:  1680\n",
      "Length: 197; size in bytes:  1680\n",
      "Length: 198; size in bytes:  1680\n",
      "Length: 199; size in bytes:  1680\n",
      "Length: 200; size in bytes:  1680\n",
      "Length: 201; size in bytes:  1680\n",
      "Length: 202; size in bytes:  1936\n",
      "Length: 203; size in bytes:  1936\n",
      "Length: 204; size in bytes:  1936\n",
      "Length: 205; size in bytes:  1936\n",
      "Length: 206; size in bytes:  1936\n",
      "Length: 207; size in bytes:  1936\n",
      "Length: 208; size in bytes:  1936\n",
      "Length: 209; size in bytes:  1936\n",
      "Length: 210; size in bytes:  1936\n",
      "Length: 211; size in bytes:  1936\n",
      "Length: 212; size in bytes:  1936\n",
      "Length: 213; size in bytes:  1936\n",
      "Length: 214; size in bytes:  1936\n",
      "Length: 215; size in bytes:  1936\n",
      "Length: 216; size in bytes:  1936\n",
      "Length: 217; size in bytes:  1936\n",
      "Length: 218; size in bytes:  1936\n",
      "Length: 219; size in bytes:  1936\n",
      "Length: 220; size in bytes:  1936\n",
      "Length: 221; size in bytes:  1936\n",
      "Length: 222; size in bytes:  1936\n",
      "Length: 223; size in bytes:  1936\n",
      "Length: 224; size in bytes:  1936\n",
      "Length: 225; size in bytes:  1936\n",
      "Length: 226; size in bytes:  1936\n",
      "Length: 227; size in bytes:  1936\n",
      "Length: 228; size in bytes:  1936\n",
      "Length: 229; size in bytes:  1936\n",
      "Length: 230; size in bytes:  1936\n",
      "Length: 231; size in bytes:  1936\n",
      "Length: 232; size in bytes:  1936\n",
      "Length: 233; size in bytes:  1936\n",
      "Length: 234; size in bytes:  2224\n",
      "Length: 235; size in bytes:  2224\n",
      "Length: 236; size in bytes:  2224\n",
      "Length: 237; size in bytes:  2224\n",
      "Length: 238; size in bytes:  2224\n",
      "Length: 239; size in bytes:  2224\n",
      "Length: 240; size in bytes:  2224\n",
      "Length: 241; size in bytes:  2224\n",
      "Length: 242; size in bytes:  2224\n",
      "Length: 243; size in bytes:  2224\n",
      "Length: 244; size in bytes:  2224\n",
      "Length: 245; size in bytes:  2224\n",
      "Length: 246; size in bytes:  2224\n",
      "Length: 247; size in bytes:  2224\n",
      "Length: 248; size in bytes:  2224\n",
      "Length: 249; size in bytes:  2224\n",
      "Length: 250; size in bytes:  2224\n",
      "Length: 251; size in bytes:  2224\n",
      "Length: 252; size in bytes:  2224\n",
      "Length: 253; size in bytes:  2224\n",
      "Length: 254; size in bytes:  2224\n",
      "Length: 255; size in bytes:  2224\n",
      "Length: 256; size in bytes:  2224\n",
      "Length: 257; size in bytes:  2224\n",
      "Length: 258; size in bytes:  2224\n",
      "Length: 259; size in bytes:  2224\n",
      "Length: 260; size in bytes:  2224\n",
      "Length: 261; size in bytes:  2224\n",
      "Length: 262; size in bytes:  2224\n",
      "Length: 263; size in bytes:  2224\n",
      "Length: 264; size in bytes:  2224\n",
      "Length: 265; size in bytes:  2224\n",
      "Length: 266; size in bytes:  2224\n",
      "Length: 267; size in bytes:  2224\n",
      "Length: 268; size in bytes:  2224\n",
      "Length: 269; size in bytes:  2224\n",
      "Length: 270; size in bytes:  2544\n",
      "Length: 271; size in bytes:  2544\n",
      "Length: 272; size in bytes:  2544\n",
      "Length: 273; size in bytes:  2544\n",
      "Length: 274; size in bytes:  2544\n",
      "Length: 275; size in bytes:  2544\n",
      "Length: 276; size in bytes:  2544\n",
      "Length: 277; size in bytes:  2544\n",
      "Length: 278; size in bytes:  2544\n",
      "Length: 279; size in bytes:  2544\n",
      "Length: 280; size in bytes:  2544\n",
      "Length: 281; size in bytes:  2544\n",
      "Length: 282; size in bytes:  2544\n",
      "Length: 283; size in bytes:  2544\n",
      "Length: 284; size in bytes:  2544\n",
      "Length: 285; size in bytes:  2544\n",
      "Length: 286; size in bytes:  2544\n",
      "Length: 287; size in bytes:  2544\n",
      "Length: 288; size in bytes:  2544\n",
      "Length: 289; size in bytes:  2544\n",
      "Length: 290; size in bytes:  2544\n",
      "Length: 291; size in bytes:  2544\n",
      "Length: 292; size in bytes:  2544\n",
      "Length: 293; size in bytes:  2544\n",
      "Length: 294; size in bytes:  2544\n",
      "Length: 295; size in bytes:  2544\n",
      "Length: 296; size in bytes:  2544\n",
      "Length: 297; size in bytes:  2544\n",
      "Length: 298; size in bytes:  2544\n",
      "Length: 299; size in bytes:  2544\n"
     ]
    }
   ],
   "source": [
    "import sys\n",
    "import matplotlib.pyplot as plt\n",
    "%matplotlib inline\n",
    "data = []\n",
    "len_container = []\n",
    "byte_container = []\n",
    "for k in range(300):\n",
    "    a = len(data)\n",
    "    b = sys.getsizeof(data)\n",
    "    print(\"Length: {0:3d}; size in bytes: {1: 4d}\".format(a, b))\n",
    "    len_container.append(a)\n",
    "    byte_container.append(b)\n",
    "    data.append(None)\n"
   ]
  },
  {
   "cell_type": "code",
   "execution_count": 3,
   "metadata": {
    "pycharm": {
     "is_executing": false,
     "name": "#%%\n"
    }
   },
   "outputs": [
    {
     "data": {
      "image/png": "[encoded data removed]",
      "text/plain": [
       "<Figure size 432x288 with 1 Axes>"
      ]
     },
     "metadata": {
      "needs_background": "light"
     },
     "output_type": "display_data"
    }
   ],
   "source": [
    "plt.figure()   \n",
    "plt.plot(len_container, byte_container)\n",
    "plt.grid()\n",
    "plt.show()\n"
   ]
  },
  {
   "cell_type": "markdown",
   "metadata": {
    "pycharm": {
     "name": "#%% md\n"
    }
   },
   "source": [
    "At the early stage, bytes increased by 32, 64, but later the bytes of the list increased by\n",
    "320 bytes.\n"
   ]
  },
  {
   "cell_type": "markdown",
   "metadata": {
    "pycharm": {
     "name": "#%% md\n"
    }
   },
   "source": [
    "\n",
    "### 5.3.1 Implementing a Dynamic Array\n",
    "\n",
    "We can implement dynamic array by following steps:\n",
    "\n",
    "1. Allocate a new array B with larger capcity.\n",
    "2. Set `B[i] = A[i]` for $i=0,\\ldots,n-1$, where $n$ denotes current number of items.\n",
    "3. Set `A = B`, that is, we henceforth use `B` as the array supporint the list.\n",
    "4. Insert the new element in the new array.\n"
   ]
  },
  {
   "cell_type": "code",
   "execution_count": 4,
   "metadata": {
    "pycharm": {
     "is_executing": false,
     "name": "#%%\n"
    }
   },
   "outputs": [],
   "source": [
    "import ctypes\n",
    "\n",
    "class DynamicArray:\n",
    "    \"\"\"A dynamic array class akin to a simplified Python list\"\"\"\n",
    "    \n",
    "    def __init__(self):\n",
    "        \"\"\"Create an empty array.\"\"\"\n",
    "        self._n = 0\n",
    "        self._capacity = 1\n",
    "        self._A = self._make_array(self._capacity)\n",
    "        \n",
    "    def __len__(self):\n",
    "        \"\"\"Return number of elements stored in the array\"\"\"\n",
    "        return self._n\n",
    "    \n",
    "    def __getitem__(self, k):\n",
    "        if not 0<= k < self._n:\n",
    "            raise IndexError('invalid index')\n",
    "        return self._A[k]\n",
    "    \n",
    "    def append(self, obj):\n",
    "        \"\"\"Add object to end of the array.\"\"\"\n",
    "        if self._n == self._capacity:\n",
    "            self._resize(2 * self._capacity)\n",
    "        self._A[self._n] = obj\n",
    "        self._n += 1\n",
    "    \n",
    "    def _resize(self, c):\n",
    "        \"\"\"Resize internal array to capacity c.\"\"\"\n",
    "        B = self._make_array(c)\n",
    "        for k in range(self._n):\n",
    "            B[k] = self._A[k]\n",
    "        self._A = B\n",
    "        self._capacity = c\n",
    "        \n",
    "    def _make_array(self, c):\n",
    "        \"\"\"Return new array with capacity c.\"\"\"\n",
    "        return (c * ctypes.py_object)()"
   ]
  },
  {
   "cell_type": "markdown",
   "metadata": {
    "pycharm": {
     "is_executing": false,
     "name": "#%% md\n"
    }
   },
   "source": [
    "### 5.3.2 Amortized Analysis of Dynamic Arrays\n",
    "\n",
    "The strategy of replacing an array with a new, larger aray might at first seem slow, because a single append\n",
    "operation may require $\\Omega(n)$ time to perform, where $n$ is the current number of elements in the array.\n",
    "However, notice that by doubling the capacity during an array replacement, our new array allows us to add $n$ new\n",
    "elements before the array must be replaced again. In this way, there are many simple append operations\n",
    "for each expensive one. This fact allows us to show that performing a series of operations on an initially empty dynamic array is\n",
    "efficient in terms of its total running time.\n",
    "\n",
    "Using an algorithmic design pattern called **amortization**, we can show taht performing a sequence of such append operations\n",
    "on a dynamic array is actually quite efficient.To perform an **amortized analysis**, we use an accounting technique where we \n",
    "view the computer as coin-operated appliance that requires the payment of one **cyber-dollar** for a constant amount of computing time.\n",
    "When an operation is executed, we should have enough cyber-dollars available in our currnet \"bank account\" to pay for that operation's running time.\n",
    "Thus, the total amount of cyber-dollars spent for any computation will be proportional to the total time spent on that computation.\n",
    "The beauty of using this analysis method is that we can overcharge some operations in order to save up cyber-dollars to pay for\n",
    "others. \n",
    "\n",
    "#### Proposition 5.1\n",
    "\n",
    "Let $S$ be a sequence implemented by means of a dynamic array with initial capacity one, using the strategy of doubling the array size when full.\n",
    "The total time to perform a series of $n$ append operations in $S$, starting from $S$ being empty, is $O(n)$.\n",
    "\n",
    "#### Justification:\n",
    "\n",
    "Let us assume that one cyber-dollar is enough to pay for the execution of each append operation in $S$, excluding the time\n",
    "spent for growing the array. Also, let us assume that growing the array from size $k$ to size $2k$ requires $k$ cyber-dollars for the time\n",
    "spent initializing the new array. We shall charge each append operation three cyber-dollars. Thus, we overcharge each append operation that does not \n",
    "cause an overflow by two cyber-dollars. Think of the two cyber-dollars profited in an insertion that does not grow the array as being \"stored\" with the cell in which the element was inserted.\n",
    "An overflow occurs when the array $S$ has $2^i$ elements, for some integer $i \\geq 0$, and the size of the array used by the array representing $S$ is $2^i$.\n",
    "THus, doubling the size of the array will require $2^i$ cyber-dollars. Fortunately, these cyber-dollars can be \n",
    "found stored in cells $2^{i-1}$ through $2^i -1$. Note that the previous overflow occurred when the number of elements became\n",
    "larger than $2^{i-1}$ for the first time, and thus the cyber-dollars stored in cells $2^{i-1}$ through $2^i-1$ have not yet been spent.\n",
    "Therefore, we have a valid amortization scheme in which each operation is charged three cyber-dollars and all the computation time is paid for.\n",
    "That is, we can pay for the execution of $n$ append operations using $3n$ cyber-dollars. In other words, the amortized running time of each append operation\n",
    "is $O(1)$; hence, the total running time of $n$ append operation is $O(n)$.\n"
   ]
  },
  {
   "cell_type": "markdown",
   "metadata": {
    "pycharm": {
     "name": "#%% md\n"
    }
   },
   "source": [
    "### Geometric Increase in Capacity.\n",
    "\n",
    "Although the proof of Proposition 5.1 relies on the array being doubled each time we exapand, the $O(1)$ amortized bound per operation can be proven for any geometrically increasing progression of array size.\n",
    "When choosing the geometric base, there exists a trade-off between run-time efficiency and memory usage. WIth a base of 2, if the last insertion causes a resize event,\n",
    "the array essentially ends up twice as large as it needs to be. If we instead increases the array by only 25% of its current size, we do not risk wasting as much memory in the end, but there will be more\n",
    "intermediate resize events along the way. The key to the performance is that the amount of additional space is proportional to the current size of the array.\n",
    "\n",
    "### Beware of Arithmetic Progression\n",
    "\n",
    "To avoid reserving too much space at once, it might be tempting to implement a dynamic array with a strategy in which a constant number of additional cells are reserved each time an array is resized.\n",
    "Unfortunately, the overall performance of such a strategy is significantly worse. At an extreme, an increase of only one cell causes each append operation to resize the array, leading to a familiar $1 + 2 + \\cdots + n$ summation and \n",
    "$\\Omega(n^2)$ overall cost. Using increases of 2 or 3 at a time is slightly better, but the overall cost remains quadratic.\n",
    "\n",
    "Using a fixed increment for each resize, and thus an arithmetic progression of intermediate array sizes, results in an overall time that is quadratic in the number of operations.\n",
    "\n",
    "#### Proposition 5.2\n",
    "\n",
    "Performing a series of $n$ append operations on an initially empty dynamic array using a fixed increment with each resize takes $\\Omega(n^2)$ time.\n",
    "\n",
    "A lesson to be learned from Proposition 5.1 and 5.2 is that a subtle difference in an algorithm design can produce drastic differences in the asymptotic performance. and that a careful analysis can provide important insights into the design of a data structrue.\n",
    "\n",
    "### Memory Usage and Shrinking an Array\n",
    "\n",
    "Another consequence of the rule of a geometric increase in capacity when appending to a dynamic array is taht the final array size is guaranteed to be proportional to the overall number of elements.\n",
    "That is, the data structure uses $O(n)$ memory. This is a very desirable property for a data structure.\n",
    "\n",
    "If a container, such as a Python `list`, provides operations that cause the removal of one or more elements, greater care must be taken to ensure that a dynamic array guarantees $O(n)$ memory usage. THe risk is that\n",
    "repeated insertions may cause the underlying array to grow arbitrarily large, and that there will no longer be a proportional relationship between the actual number of elements and the array capacity after many elements are removed.\n",
    "\n",
    "A robust implementation of such a data structure will shrink the underlying array, on occasion, while maintaining the $O(1)$ amortized bound on individual operations.\n",
    "However, care must be taken to ensure that the structure cannot rapidly oscillate between growing and shrinking the underlying array, in which case the amortized bound would not be achieved.\n",
    "\n",
    " ### 5.3.3 Python's List Class\n",
    " \n",
    " Python is not using a pure geometric progression, nor is it using an arithmetic progression for `list` class.\n",
    " \n",
    " With that said, it is clear that Python's implementation of the `append` method exhibits amortized constant-time behavior. We can demonstrate this fact experimentally.\n",
    " We can get a more accurate measure of the amortized cost per operation by performing a series of $n$ append operations on an initilaly empty list and determining the *average* cost of each. A function to perform that is given by follow:\n",
    " \n",
    " "
   ]
  },
  {
   "cell_type": "code",
   "execution_count": 1,
   "metadata": {
    "pycharm": {
     "is_executing": false,
     "name": "#%% \n"
    }
   },
   "outputs": [],
   "source": [
    "from time import time\n",
    " \n",
    "def compute_average(n):\n",
    "    \"\"\"Perform n appends to an empty lista nd return average time elapsed.\"\"\"\n",
    "    \n",
    "    data = []\n",
    "    start = time()\n",
    "    for k in range(n):\n",
    "        data.append(None)\n",
    "    end = time()\n",
    "    return (end - start) / n"
   ]
  },
  {
   "cell_type": "code",
   "execution_count": 2,
   "metadata": {
    "pycharm": {
     "is_executing": false,
     "name": "#%%\n"
    }
   },
   "outputs": [
    {
     "data": {
      "text/plain": [
       "[9.150505065917968e-08,\n",
       " 1.7128944396972655e-07,\n",
       " 9.629607200622559e-08,\n",
       " 7.832038402557373e-08]"
      ]
     },
     "execution_count": 2,
     "metadata": {},
     "output_type": "execute_result"
    }
   ],
   "source": [
    "x = [compute_average(i) for i in [10**4, 10**5, 10**6, 10**7]]\n",
    "x"
   ]
  },
  {
   "cell_type": "markdown",
   "metadata": {
    "pycharm": {
     "name": "#%% md\n"
    }
   },
   "source": [
    "Technically the time elapsed between the start and end includes the time to manage the iteration for the for loop, in addition to the `append` calls.\n",
    "The empirical results of the experiment, for increasingly larger values of $n$, we see higher average cost for the smaller data sets, perhasps in part due to the overhead of the loop range.\n",
    "There is also natural variance in measuring the amortized cost in this way, because of the impact of the final resize vent relative to $n$. Taken as a whole,\n",
    "there seems clear evidence that the amortized time for each `append` is independent of $n$.\n",
    "\n"
   ]
  },
  {
   "cell_type": "markdown",
   "metadata": {},
   "source": [
    "## 5.4 Efficiency of Python's Sequence Types"
   ]
  },
  {
   "cell_type": "markdown",
   "metadata": {},
   "source": [
    "### 5.4.1 Python's List and Tuple Classes"
   ]
  },
  {
   "cell_type": "markdown",
   "metadata": {},
   "source": [
    "|Operation|Running Time|\n",
    "|---|---|\n",
    "|`len(data)`|$O(1)$|\n",
    "|`data[j]`|$O(1)$|\n",
    "|`data.count(value)`|$O(n)$|\n",
    "|`data.index(value)`|$O(k+1)$|\n",
    "|`value in data`|$O(k+1)$|\n",
    "|`data1==data2`|$O(k+1)$|\n",
    "|`data[j:k]`|$O(k-j+1)$|\n",
    "|`data1 + data2`|$O(n_1 + n_2)$|\n",
    "|`c * data`|$O(cn)$|"
   ]
  },
  {
   "cell_type": "markdown",
   "metadata": {},
   "source": [
    "The `data1` and `data2` designate instances of the `list` or `tuple` class, and $n_1$ and $n_2$ their respective length. $k$ represents the index of the left most occurence ofr the containment check."
   ]
  },
  {
   "cell_type": "markdown",
   "metadata": {},
   "source": [
    "|Operation|Running Time|\n",
    "|---|---|\n",
    "|`data[j] = val`|$O(1)$|\n",
    "|`data.append(value)`|$O(1)$|\n",
    "|`data.insert(k, value)`|$O(n-k+1)$|\n",
    "|`data.pop()`|$O(1)$|\n",
    "|`data.pop(k)`|$O(n-k)$|\n",
    "|`data.remove(value)`|$O(n)$|\n",
    "|`data1.extend(data2)`|$O(n_2)$|\n",
    "|`data.reverse()`|$O(n)$|\n",
    "|`data.sort()`|$O(n\\log n)$|"
   ]
  },
  {
   "cell_type": "markdown",
   "metadata": {},
   "source": [
    "### 5.4.2 Python's String Class"
   ]
  },
  {
   "cell_type": "markdown",
   "metadata": {},
   "source": [
    "It is recommended to append string by using list comprehension instead of iteratively calling append, which have to increase its length for every iteration and lead to $O(n^2)$."
   ]
  },
  {
   "cell_type": "code",
   "execution_count": 3,
   "metadata": {},
   "outputs": [],
   "source": [
    "doc = \"ABcdefGH12414523632ijklmnopqrstuvwXYZ\""
   ]
  },
  {
   "cell_type": "code",
   "execution_count": 4,
   "metadata": {},
   "outputs": [
    {
     "data": {
      "text/plain": [
       "'ABcdefGHijklmnopqrstuvwXYZ'"
      ]
     },
     "execution_count": 4,
     "metadata": {},
     "output_type": "execute_result"
    }
   ],
   "source": [
    "letters = ''.join([c for c in doc if c.isalpha()])\n",
    "letters"
   ]
  },
  {
   "cell_type": "markdown",
   "metadata": {},
   "source": [
    "In this case, generator comprehension is preferred to list comprehension in terms of memory management."
   ]
  },
  {
   "cell_type": "code",
   "execution_count": 5,
   "metadata": {},
   "outputs": [
    {
     "data": {
      "text/plain": [
       "'ABcdefGHijklmnopqrstuvwXYZ'"
      ]
     },
     "execution_count": 5,
     "metadata": {},
     "output_type": "execute_result"
    }
   ],
   "source": [
    "letters = ''.join(c for c in doc if c.isalpha())\n",
    "letters"
   ]
  },
  {
   "cell_type": "markdown",
   "metadata": {},
   "source": [
    "## 5.5 Using Array-Based Sequences"
   ]
  },
  {
   "cell_type": "markdown",
   "metadata": {},
   "source": [
    "### 5.5.1 Storing High Scores for a Game"
   ]
  },
  {
   "cell_type": "code",
   "execution_count": 6,
   "metadata": {},
   "outputs": [],
   "source": [
    "class GameEntry:\n",
    "    \"\"\"Represents one entry of a list of high scores.\"\"\"\n",
    "    \n",
    "    def __init__(self, name, score):\n",
    "        self._name = name\n",
    "        self._score = score\n",
    "    \n",
    "    @property\n",
    "    def name(self):\n",
    "        return self._name\n",
    "    \n",
    "    @property\n",
    "    def score(self):\n",
    "        return self._score\n",
    "    \n",
    "    def __repr__(self):\n",
    "        return \"({0}, {1})\".format(self.name, self.score)"
   ]
  },
  {
   "cell_type": "code",
   "execution_count": 7,
   "metadata": {},
   "outputs": [
    {
     "data": {
      "text/plain": [
       "(John, 100)"
      ]
     },
     "execution_count": 7,
     "metadata": {},
     "output_type": "execute_result"
    }
   ],
   "source": [
    "GameEntry(\"John\", 100)"
   ]
  },
  {
   "cell_type": "code",
   "execution_count": 8,
   "metadata": {},
   "outputs": [],
   "source": [
    "class Scoreboard:\n",
    "    \"\"\"Fixed-length sequence of high scores in nondecreasing oreder.\"\"\"\"\"\n",
    "    \n",
    "    def __init__(self, capacity=10):\n",
    "        \n",
    "        self._board = [None] * capacity\n",
    "        self._n = 0\n",
    "    \n",
    "    @property\n",
    "    def board(self):\n",
    "        return self._board\n",
    "    \n",
    "    @property\n",
    "    def n(self):\n",
    "        return self._n\n",
    "    \n",
    "    def __getitem__(self, k):\n",
    "        return self.board[k]\n",
    "    \n",
    "    def __repr__(self):\n",
    "        return \"\\n\".join(str(self.board[j]) for j in range(self.n))\n",
    "    \n",
    "    def add(self, entry):\n",
    "        score = entry.score\n",
    "        good = self.n < len(self.board) or score > self.board[-1].score\n",
    "        \n",
    "        if good:\n",
    "            if self.n < len(self.board):\n",
    "                self.n += 1\n",
    "            \n",
    "            j = self.n - 1\n",
    "            while j > 0 and self.board[j-1].score < score:\n",
    "                self.board[j] = self.board[j-1]\n",
    "                j -= 1\n",
    "            self.board[j] = entry"
   ]
  },
  {
   "cell_type": "markdown",
   "metadata": {},
   "source": [
    "### 5.5.2 Sorting a Sequence"
   ]
  },
  {
   "cell_type": "code",
   "execution_count": 14,
   "metadata": {},
   "outputs": [],
   "source": [
    "def insertion_sort(A):\n",
    "    \n",
    "    for k in range(1, len(A)):\n",
    "        cur = A[k]\n",
    "        j = k\n",
    "        while j > 0 and A[j-1] > cur:\n",
    "            A[j] = A[j-1]\n",
    "            j -= 1\n",
    "        A[j]= cur\n",
    "        "
   ]
  },
  {
   "cell_type": "code",
   "execution_count": 15,
   "metadata": {},
   "outputs": [],
   "source": [
    "A = [5, 2, 4, 1]"
   ]
  },
  {
   "cell_type": "code",
   "execution_count": 16,
   "metadata": {},
   "outputs": [],
   "source": [
    "insertion_sort(A)"
   ]
  },
  {
   "cell_type": "code",
   "execution_count": 17,
   "metadata": {},
   "outputs": [
    {
     "data": {
      "text/plain": [
       "[1, 2, 4, 5]"
      ]
     },
     "execution_count": 17,
     "metadata": {},
     "output_type": "execute_result"
    }
   ],
   "source": [
    "A"
   ]
  },
  {
   "cell_type": "markdown",
   "metadata": {},
   "source": [
    "### 5.5.3 Simple Cryptography"
   ]
  },
  {
   "cell_type": "code",
   "execution_count": 18,
   "metadata": {},
   "outputs": [
    {
     "name": "stdout",
     "output_type": "stream",
     "text": [
      "Secret:  WKH HDJOH LV LQ SODB; PHHW DW MRH'V\n",
      "Message:  THE EAGLE IS IN PLAY; MEET AT JOE'S\n"
     ]
    }
   ],
   "source": [
    "class CaesarCipher:\n",
    "    \n",
    "    def __init__(self, shift):\n",
    "        \n",
    "        encoder = [None] * 26\n",
    "        decoder = [None] * 26\n",
    "        \n",
    "        for k in range(26):\n",
    "            encoder[k] = chr((k + shift) % 26 + ord('A'))\n",
    "            decoder[k] = chr((k - shift) % 26 + ord('A'))\n",
    "        self._forward = ''.join(encoder)\n",
    "        self._backward = ''.join(decoder)\n",
    "        \n",
    "    def encrypt(self, message):\n",
    "        return self._transform(message, self._forward)\n",
    "    \n",
    "    def decrypt(self, message):\n",
    "        return self._transform(message, self._backward)\n",
    "    \n",
    "    def _transform(self, original, code):\n",
    "        msg = list(original)\n",
    "        for k in range(len(msg)):\n",
    "            if msg[k].isupper():\n",
    "                j = ord(msg[k]) - ord('A')\n",
    "                msg[k] = code[j]\n",
    "        return ''.join(msg)\n",
    "    \n",
    "\n",
    "cipher = CaesarCipher(3)\n",
    "message = \"THE EAGLE IS IN PLAY; MEET AT JOE'S\"\n",
    "coded = cipher.encrypt(message)\n",
    "print(\"Secret: \", coded)\n",
    "answer = cipher.decrypt(coded)\n",
    "print(\"Message: \", answer)\n",
    "            "
   ]
  },
  {
   "cell_type": "markdown",
   "metadata": {},
   "source": [
    "## 5.6 Multidimensional Data Sets"
   ]
  },
  {
   "cell_type": "markdown",
   "metadata": {},
   "source": [
    "Properl initializing a two-dimensional list:"
   ]
  },
  {
   "cell_type": "code",
   "execution_count": 1,
   "metadata": {},
   "outputs": [],
   "source": [
    "data = [[0] * 3 for _ in range(5)]"
   ]
  },
  {
   "cell_type": "code",
   "execution_count": 2,
   "metadata": {},
   "outputs": [
    {
     "data": {
      "text/plain": [
       "[[0, 0, 0], [0, 0, 0], [0, 0, 0], [0, 0, 0], [0, 0, 0]]"
      ]
     },
     "execution_count": 2,
     "metadata": {},
     "output_type": "execute_result"
    }
   ],
   "source": [
    "data"
   ]
  },
  {
   "cell_type": "markdown",
   "metadata": {},
   "source": [
    "### Two-Dimensional Arrays and Positional Games"
   ]
  },
  {
   "cell_type": "code",
   "execution_count": 8,
   "metadata": {},
   "outputs": [],
   "source": [
    "class TicTacToe:\n",
    "    \n",
    "    def __init__(self):\n",
    "        \n",
    "        self._board = [[' '] * 3 for _ in range(3)]\n",
    "        self._player = 'X'\n",
    "        \n",
    "    def mark(self, i, j):\n",
    "        \n",
    "        if not (0 <= i <= 2 and 0 <= j <= 2):\n",
    "            raise ValueError('Invalid board position')\n",
    "        \n",
    "        if self._board[i][j] != ' ':\n",
    "            raise ValueError('Board position occupied')\n",
    "            \n",
    "        if self.winner() is not None:\n",
    "            raise ValueError('Game is already complete')\n",
    "            \n",
    "        self._board[i][j] = self._player\n",
    "        if self._player == 'X':\n",
    "            self._player = 'O'\n",
    "        else:\n",
    "            self._player = 'X'\n",
    "            \n",
    "    def _is_win(self, mark):\n",
    "        \n",
    "        board = self._board\n",
    "        return (mark == board[0][0] == board[0][1] == board[0][2] or\n",
    "                mark == board[1][0] == board[1][1] == board[1][2] or\n",
    "                mark == board[2][0] == board[2][1] == board[2][2] or\n",
    "                mark == board[0][0] == board[1][0] == board[2][0] or\n",
    "                mark == board[0][1] == board[1][1] == board[2][1] or\n",
    "                mark == board[0][2] == board[1][2] == board[2][2] or\n",
    "                mark == board[0][0] == board[1][1] == board[2][2] or\n",
    "                mark == board[0][2] == board[1][1] == board[2][0])\n",
    "    \n",
    "    def winner(self):\n",
    "        for mark in 'XO':\n",
    "            if self._is_win(mark):\n",
    "                return mark\n",
    "        return None\n",
    "    \n",
    "    def __str__(self):\n",
    "        rows = ['|'.join(self._board[r]) for r in range(3)]\n",
    "        return '\\n-----\\n'.join(rows)\n",
    "        "
   ]
  },
  {
   "cell_type": "code",
   "execution_count": 9,
   "metadata": {},
   "outputs": [
    {
     "name": "stdout",
     "output_type": "stream",
     "text": [
      "O|X|O\n",
      "-----\n",
      "O|X|X\n",
      "-----\n",
      "X|O|X\n"
     ]
    }
   ],
   "source": [
    "game = TicTacToe()\n",
    "\n",
    "game.mark(1,1); game.mark(0,2)\n",
    "game.mark(2,2); game.mark(0,0)\n",
    "game.mark(0,1); game.mark(2,1)\n",
    "game.mark(1,2); game.mark(1,0)\n",
    "game.mark(2,0)\n",
    "\n",
    "print(game)"
   ]
  },
  {
   "cell_type": "code",
   "execution_count": 10,
   "metadata": {},
   "outputs": [],
   "source": [
    "winner = game.winner()"
   ]
  },
  {
   "cell_type": "code",
   "execution_count": 11,
   "metadata": {},
   "outputs": [],
   "source": [
    "winner"
   ]
  },
  {
   "cell_type": "code",
   "execution_count": 12,
   "metadata": {},
   "outputs": [
    {
     "name": "stdout",
     "output_type": "stream",
     "text": [
      "Tie\n"
     ]
    }
   ],
   "source": [
    "if winner is None:\n",
    "    print('Tie')\n",
    "else:\n",
    "    print(winner, 'wins')"
   ]
  }
 ],
 "metadata": {
  "kernelspec": {
   "display_name": "Python 3",
   "language": "python",
   "name": "python3"
  },
  "language_info": {
   "codemirror_mode": {
    "name": "ipython",
    "version": 3
   },
   "file_extension": ".py",
   "mimetype": "text/x-python",
   "name": "python",
   "nbconvert_exporter": "python",
   "pygments_lexer": "ipython3",
   "version": "3.7.4"
  },
  "pycharm": {
   "stem_cell": {
    "cell_type": "raw",
    "metadata": {
     "collapsed": false
    },
    "source": []
   }
  }
 },
 "nbformat": 4,
 "nbformat_minor": 2
}
