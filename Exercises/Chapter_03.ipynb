{
 "cells": [
  {
   "cell_type": "markdown",
   "source": [
    "# Chapter 03: Algorithm Analysis"
   ],
   "metadata": {
    "collapsed": false
   }
  },
  {
   "cell_type": "markdown",
   "source": [
    "## Modules"
   ],
   "metadata": {
    "collapsed": false
   }
  },
  {
   "cell_type": "code",
   "execution_count": 3,
   "outputs": [],
   "source": [
    "import numpy as np\n",
    "import matplotlib.pyplot as plt\n",
    "%matplotlib inline"
   ],
   "metadata": {
    "collapsed": false,
    "pycharm": {
     "name": "#%%\n",
     "is_executing": false
    }
   }
  },
  {
   "cell_type": "markdown",
   "source": [
    "## Exercises"
   ],
   "metadata": {
    "collapsed": false
   }
  },
  {
   "cell_type": "markdown",
   "source": [
    "### R-3.23"
   ],
   "metadata": {
    "collapsed": false
   }
  },
  {
   "cell_type": "markdown",
   "source": [
    "Give a big-Oh characterization, in terms of $n$, of the running time of the `example1` function."
   ],
   "metadata": {
    "collapsed": false
   }
  },
  {
   "cell_type": "markdown",
   "source": [
    "#### Solution"
   ],
   "metadata": {
    "collapsed": false
   }
  },
  {
   "cell_type": "code",
   "execution_count": 4,
   "outputs": [],
   "source": [
    "def example1(S):\n",
    "    \"\"\"Return the sum of the elements in sequence S.\"\"\"\n",
    "    n = len(S)\n",
    "    total = 0\n",
    "    count = 0\n",
    "    num_calc = []\n",
    "    for j in range(n):\n",
    "        total += S[j]\n",
    "        count += 1\n",
    "        num_calc.append(count)\n",
    "    return total, num_calc"
   ],
   "metadata": {
    "collapsed": false,
    "pycharm": {
     "name": "#%%\n",
     "is_executing": false
    }
   }
  },
  {
   "cell_type": "code",
   "execution_count": 5,
   "outputs": [],
   "source": [
    "s = np.random.randint(0, 100, size=(100,))"
   ],
   "metadata": {
    "collapsed": false,
    "pycharm": {
     "name": "#%%\n",
     "is_executing": false
    }
   }
  },
  {
   "cell_type": "code",
   "execution_count": 6,
   "outputs": [
    {
     "data": {
      "text/plain": "[<matplotlib.lines.Line2D at 0x25d181f1320>]"
     },
     "metadata": {},
     "output_type": "execute_result",
     "execution_count": 6
    },
    {
     "data": {
      "text/plain": "<Figure size 432x288 with 1 Axes>",
      "image/png": "[encoded data removed]"
     },
     "metadata": {
      "needs_background": "light"
     },
     "output_type": "display_data"
    }
   ],
   "source": [
    "total, num_calc = example1(s)\n",
    "plt.plot(num_calc)"
   ],
   "metadata": {
    "collapsed": false,
    "pycharm": {
     "name": "#%%\n",
     "is_executing": false
    }
   }
  },
  {
   "cell_type": "markdown",
   "source": [
    "$O(n)$"
   ],
   "metadata": {
    "collapsed": false
   }
  },
  {
   "cell_type": "markdown",
   "source": [
    "### R-3.24"
   ],
   "metadata": {
    "collapsed": false
   }
  },
  {
   "cell_type": "markdown",
   "source": [
    "Give a big-Oh characterization, in terms of $n$, of the running time of the `example2` function."
   ],
   "metadata": {
    "collapsed": false
   }
  },
  {
   "cell_type": "markdown",
   "source": [
    "#### Solution"
   ],
   "metadata": {
    "collapsed": false
   }
  },
  {
   "cell_type": "code",
   "execution_count": null,
   "outputs": [],
   "source": [
    "def example2(S):\n",
    "    \"\"\"Return the sum of the elemnets in sequnce S.\"\"\"\n",
    "    n = len(S)\n",
    "    total = 0\n",
    "    count = 0\n",
    "    num_calc = []\n",
    "    for j in range(0, n, 2):\n",
    "        total += S[j]\n",
    "        count += 1\n",
    "        num_calc.append(count)\n",
    "    return total, num_calc"
   ],
   "metadata": {
    "collapsed": false,
    "pycharm": {
     "name": "#%%\n",
     "is_executing": true
    }
   }
  },
  {
   "cell_type": "code",
   "execution_count": 8,
   "outputs": [
    {
     "data": {
      "text/plain": "[<matplotlib.lines.Line2D at 0x25d18285860>]"
     },
     "metadata": {},
     "output_type": "execute_result",
     "execution_count": 8
    },
    {
     "data": {
      "text/plain": "<Figure size 432x288 with 1 Axes>",
      "image/png": "[encoded data removed]"
     },
     "metadata": {
      "needs_background": "light"
     },
     "output_type": "display_data"
    }
   ],
   "source": [
    "total, num_calc = example2(s)\n",
    "plt.plot(num_calc)"
   ],
   "metadata": {
    "collapsed": false,
    "pycharm": {
     "name": "#%%\n",
     "is_executing": false
    }
   }
  },
  {
   "cell_type": "markdown",
   "source": [
    "$O(n)$"
   ],
   "metadata": {
    "collapsed": false
   }
  },
  {
   "cell_type": "markdown",
   "source": [
    "### R-3.25"
   ],
   "metadata": {
    "collapsed": false
   }
  },
  {
   "cell_type": "markdown",
   "source": [
    "Give a big-Oh characterization, in terms of $n$, of the running time of the `example3` function."
   ],
   "metadata": {
    "collapsed": false
   }
  },
  {
   "cell_type": "markdown",
   "source": [
    "#### Solution"
   ],
   "metadata": {
    "collapsed": false
   }
  },
  {
   "cell_type": "code",
   "execution_count": null,
   "outputs": [],
   "source": [
    "def example3(S):\n",
    "    \"\"\"Return the sum of the elemnets in sequnce S.\"\"\"\n",
    "    n = len(S)\n",
    "    total = 0\n",
    "    count = 0\n",
    "    num_calc = []\n",
    "    for j in range(n):\n",
    "        for k in range(1+j):\n",
    "            total += S[j]\n",
    "            count += 1\n",
    "        num_calc.append(count)\n",
    "    return total, num_calc"
   ],
   "metadata": {
    "collapsed": false,
    "pycharm": {
     "name": "#%%\n",
     "is_executing": true
    }
   }
  },
  {
   "cell_type": "code",
   "execution_count": 10,
   "outputs": [
    {
     "data": {
      "text/plain": "[<matplotlib.lines.Line2D at 0x25d2accdba8>]"
     },
     "metadata": {},
     "output_type": "execute_result",
     "execution_count": 10
    },
    {
     "data": {
      "text/plain": "<Figure size 432x288 with 1 Axes>",
      "image/png": "[encoded data removed]"
     },
     "metadata": {
      "needs_background": "light"
     },
     "output_type": "display_data"
    }
   ],
   "source": [
    "total, num_calc = example3(s)\n",
    "plt.plot(num_calc)"
   ],
   "metadata": {
    "collapsed": false,
    "pycharm": {
     "name": "#%%\n",
     "is_executing": false
    }
   }
  },
  {
   "cell_type": "markdown",
   "source": [
    "$O(n^2)$"
   ],
   "metadata": {
    "collapsed": false
   }
  },
  {
   "cell_type": "markdown",
   "source": [
    "### R-3.26"
   ],
   "metadata": {
    "collapsed": false
   }
  },
  {
   "cell_type": "markdown",
   "source": [
    "Give a big-Oh characterization, in terms of $n$, of the running time of the `example4` function."
   ],
   "metadata": {
    "collapsed": false
   }
  },
  {
   "cell_type": "markdown",
   "source": [
    "#### Solution"
   ],
   "metadata": {
    "collapsed": false
   }
  },
  {
   "cell_type": "code",
   "execution_count": null,
   "outputs": [],
   "source": [
    "def example4(S):\n",
    "    \"\"\"Return the sum of the elemnets in sequnce S.\"\"\"\n",
    "    n = len(S)\n",
    "    prefix = 0\n",
    "    total = 0\n",
    "    count = 0\n",
    "    num_calc = []\n",
    "    for j in range(n):\n",
    "        prefix += S[j]\n",
    "        total += prefix\n",
    "        count += 1\n",
    "        num_calc.append(count)\n",
    "    return total, num_calc"
   ],
   "metadata": {
    "collapsed": false,
    "pycharm": {
     "name": "#%%\n",
     "is_executing": true
    }
   }
  },
  {
   "cell_type": "code",
   "execution_count": 12,
   "outputs": [
    {
     "data": {
      "text/plain": "[<matplotlib.lines.Line2D at 0x25d2ad2eb38>]"
     },
     "metadata": {},
     "output_type": "execute_result",
     "execution_count": 12
    },
    {
     "data": {
      "text/plain": "<Figure size 432x288 with 1 Axes>",
      "image/png": "[encoded data removed]"
     },
     "metadata": {
      "needs_background": "light"
     },
     "output_type": "display_data"
    }
   ],
   "source": [
    "total, num_calc = example4(s)\n",
    "plt.plot(num_calc)"
   ],
   "metadata": {
    "collapsed": false,
    "pycharm": {
     "name": "#%%\n",
     "is_executing": false
    }
   }
  },
  {
   "cell_type": "markdown",
   "source": [
    "$O(n)$"
   ],
   "metadata": {
    "collapsed": false
   }
  },
  {
   "cell_type": "markdown",
   "source": [
    "### R-3.27"
   ],
   "metadata": {
    "collapsed": false
   }
  },
  {
   "cell_type": "markdown",
   "source": [
    "Give a big-Oh characterization, in terms of $n$, of the running time of the `example5` function."
   ],
   "metadata": {
    "collapsed": false
   }
  },
  {
   "cell_type": "markdown",
   "source": [
    "*Thanks to [shenxiangzhuang](https://github.com/shenxiangzhuang), this solution has been fixed.*\n",
    "#### Solution"
   ],
   "metadata": {
    "collapsed": false
   }
  },
  {
   "cell_type": "code",
   "execution_count": 27,
   "outputs": [],
   "source": [
    "# https://github.com/jihoonerd/Data_Structures_and_Algorithms_in_Python/issues/2\n",
    "\n",
    "def example5(A, B):\n",
    "    \"\"\"Return the number of elements in B equal to the sum of prefix sums in A.\"\"\"\n",
    "    n = len(A)\n",
    "    count = 0\n",
    "    num_calc = 0\n",
    "    for i in range(n):\n",
    "        total = 0\n",
    "        for j in range(n):\n",
    "            for k in range(1+j):\n",
    "                total += A[k]\n",
    "                num_calc += 1\n",
    "        if B[i] == total:\n",
    "            count+=1\n",
    "    return count, num_calc"
   ],
   "metadata": {
    "collapsed": false,
    "pycharm": {
     "name": "#%%\n",
     "is_executing": false
    }
   }
  },
  {
   "cell_type": "code",
   "execution_count": 29,
   "outputs": [
    {
     "data": {
      "text/plain": "<Figure size 432x288 with 1 Axes>",
      "image/png": "[encoded data removed]"
     },
     "metadata": {
      "needs_background": "light"
     },
     "output_type": "display_data"
    }
   ],
   "source": [
    "def get_time_complexity_2(n=100):\n",
    "    op_nums = []\n",
    "    for i in range(1, n):\n",
    "        A = np.random.randint(0, 100, size=(i, ))\n",
    "        B = np.random.randint(0, 100, size=(i, ))\n",
    "        _, num_calc = example5(A, B)\n",
    "        op_nums.append(num_calc)\n",
    "    plt.plot(op_nums)\n",
    "    plt.plot(range(n), [i**2 for i in range(n)])\n",
    "    plt.plot(range(n), [i**3 for i in range(n)])\n",
    "    plt.legend(['example5', '$n^2$', '$n^3$'])\n",
    "    plt.title('example5')\n",
    "    plt.show()\n",
    "get_time_complexity_2()"
   ],
   "metadata": {
    "collapsed": false,
    "pycharm": {
     "name": "#%%\n",
     "is_executing": false
    }
   }
  },
  {
   "cell_type": "markdown",
   "source": [
    "$O(n)$, but the constant factor is extremely large."
   ],
   "metadata": {
    "collapsed": false
   }
  },
  {
   "cell_type": "markdown",
   "source": [
    "### C-3.38\n",
    "Show that $\\sum_{i=1}^n i^2$ is $O(n^3)$.\n",
    "#### Solution\n",
    "Mathematically, $\\sum_{i=1}^n i^2$ is equal to\n",
    "\n",
    "$$\\frac{n(n+1)(2n+1)}{6}$$\n",
    "\n",
    "which should be $O(n^3)$."
   ],
   "metadata": {
    "collapsed": false,
    "pycharm": {
     "name": "#%% md\n"
    }
   }
  },
  {
   "cell_type": "markdown",
   "source": [
    "### C-3.51\n",
    "Show that the summation $\\sum_{i=1}^n \\log i$ is $O(n\\log n)$.\n",
    "\n",
    "#### Solution\n",
    "\n",
    "$$\n",
    "\\begin{aligned}\n",
    "\\sum_{i=1}^n \\log i &= \\log(1) + \\log(2) + \\cdots + \\log(n) \\\\\n",
    "&= \\log(1 \\times 2 \\times \\cdots \\times n-1 \\times n) \\\\\n",
    "&= \\log(n^n + \\cdots) \\\\\n",
    "&= n\\log n + \\cdots\n",
    "\\end{aligned}\n",
    "$$\n"
   ],
   "metadata": {
    "collapsed": false,
    "pycharm": {
     "name": "#%% md\n"
    }
   }
  }
 ],
 "metadata": {
  "kernelspec": {
   "display_name": "Python 3",
   "language": "python",
   "name": "python3"
  },
  "language_info": {
   "codemirror_mode": {
    "name": "ipython",
    "version": 3
   },
   "file_extension": ".py",
   "mimetype": "text/x-python",
   "name": "python",
   "nbconvert_exporter": "python",
   "pygments_lexer": "ipython3",
   "version": "3.6.0"
  },
  "pycharm": {
   "stem_cell": {
    "cell_type": "raw",
    "source": [],
    "metadata": {
     "collapsed": false
    }
   }
  }
 },
 "nbformat": 4,
 "nbformat_minor": 2
}