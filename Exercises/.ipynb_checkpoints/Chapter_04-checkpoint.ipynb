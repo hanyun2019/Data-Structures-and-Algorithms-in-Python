{
 "cells": [
  {
   "cell_type": "markdown",
   "metadata": {
    "pycharm": {
     "metadata": false
    }
   },
   "source": [
    "# Chapter 04: Recursion"
   ]
  },
  {
   "cell_type": "markdown",
   "metadata": {
    "pycharm": {
     "metadata": false
    }
   },
   "source": [
    "## Modules"
   ]
  },
  {
   "cell_type": "code",
   "execution_count": 40,
   "metadata": {
    "pycharm": {
     "is_executing": false,
     "metadata": false,
     "name": "#%%\n"
    }
   },
   "outputs": [],
   "source": [
    "import numpy as np\n",
    "import matplotlib.pyplot as plt\n",
    "%matplotlib inline"
   ]
  },
  {
   "cell_type": "markdown",
   "metadata": {
    "pycharm": {
     "metadata": false
    }
   },
   "source": [
    "## Exercises\n",
    "### R-4.1\n",
    "Describe a recursive algorithm for finding the maximum element in a sequence $S$, of $n$ elements. What is your running time and space usage?"
   ]
  },
  {
   "cell_type": "markdown",
   "metadata": {
    "pycharm": {
     "metadata": false,
     "name": "#%% md\n"
    }
   },
   "source": [
    "#### Solution"
   ]
  },
  {
   "cell_type": "code",
   "execution_count": 52,
   "metadata": {
    "pycharm": {
     "is_executing": false,
     "metadata": false,
     "name": "#%%\n"
    }
   },
   "outputs": [],
   "source": [
    "def max_recursive(seq, start):\n",
    "    \n",
    "    if len(seq) == 1:\n",
    "        return seq[0]\n",
    "\n",
    "    if seq[start] <= seq[start + 1]:\n",
    "        del seq[start]\n",
    "    \n",
    "    elif seq[start] > seq[start + 1]:\n",
    "        del seq[start + 1]\n",
    "    else:\n",
    "        return KeyError()\n",
    "    \n",
    "    return max_recursive(seq, start)\n",
    "\n",
    "    "
   ]
  },
  {
   "cell_type": "code",
   "execution_count": 53,
   "metadata": {
    "pycharm": {
     "is_executing": false,
     "metadata": false,
     "name": "#%%\n"
    }
   },
   "outputs": [
    {
     "name": "stdout",
     "output_type": "stream",
     "text": [
      "maximum of seq1 should be  8\n",
      "maximum of seq1 should be  99\n",
      "maximum of seq1 should be  999\n",
      "seq1:  8\n",
      "seq2:  99\n",
      "seq3:  999\n"
     ]
    }
   ],
   "source": [
    "seq1 = np.random.randint(0, 10, size=(10,)).tolist()\n",
    "print(\"maximum of seq1 should be \", max(seq1))\n",
    "seq2 = np.random.randint(0, 100, size=(100,)).tolist()\n",
    "print(\"maximum of seq1 should be \", max(seq2))\n",
    "seq3 = np.random.randint(0, 1000, size=(1000,)).tolist()\n",
    "print(\"maximum of seq1 should be \", max(seq3))\n",
    "\n",
    "print(\"seq1: \", max_recursive(seq1, 0))\n",
    "print(\"seq2: \", max_recursive(seq2, 0))\n",
    "print(\"seq3: \", max_recursive(seq3, 0))\n"
   ]
  },
  {
   "cell_type": "markdown",
   "metadata": {
    "pycharm": {
     "metadata": false,
     "name": "#%% md\n"
    }
   },
   "source": [
    "### R-4.6\n",
    "Describe a recursive function for computing the $n^\\text{th}$ **Harmonic number** , $H_n = \\sum_{i=1}^n 1/i$"
   ]
  },
  {
   "cell_type": "markdown",
   "metadata": {
    "pycharm": {
     "metadata": false,
     "name": "#%% md\n"
    }
   },
   "source": [
    "#### Solution"
   ]
  },
  {
   "cell_type": "code",
   "execution_count": 68,
   "metadata": {
    "pycharm": {
     "is_executing": false,
     "metadata": false,
     "name": "#%% \n"
    }
   },
   "outputs": [],
   "source": [
    "def get_harmonic(n):\n",
    "    if n == 1:\n",
    "        return 1\n",
    "    return (1 / n) + get_harmonic(n-1)"
   ]
  },
  {
   "cell_type": "code",
   "execution_count": 72,
   "metadata": {
    "pycharm": {
     "is_executing": false,
     "metadata": false,
     "name": "#%%\n"
    }
   },
   "outputs": [
    {
     "data": {
      "image/png": "[encoded data removed]",
      "text/plain": [
       "<Figure size 432x288 with 1 Axes>"
      ]
     },
     "metadata": {
      "needs_background": "light"
     },
     "output_type": "display_data"
    }
   ],
   "source": [
    "harmonic_series = [get_harmonic(i) for i in range(1, 100)]\n",
    "plt.plot(harmonic_series)\n",
    "plt.grid()\n"
   ]
  },
  {
   "cell_type": "markdown",
   "metadata": {
    "pycharm": {}
   },
   "source": [
    "### C-4.14\n",
    "In the ***Towers of Hanoi*** puzzle, we are given a platform with three pegs, $a, b,$ and $c$, \n",
    "sticking out of it. On peg $a$ is a stack of $n$ disks, each larger than the next, so that the smallest is on the top and the largest is on the bottom. The puzzle is to move all the disk from peg $a$ to peg $c$, moving one disk at a time, so that we never place a larger disk on top of a smaller one. Describe a recursive algorithm for solving the Towers of Hanoi puzzle for arbitrary $n$."
   ]
  },
  {
   "cell_type": "markdown",
   "metadata": {
    "pycharm": {
     "metadata": false,
     "name": "#%% md\n"
    }
   },
   "source": [
    "#### Solution"
   ]
  },
  {
   "cell_type": "code",
   "execution_count": 76,
   "metadata": {
    "pycharm": {
     "is_executing": false,
     "metadata": false,
     "name": "#%%\n"
    }
   },
   "outputs": [],
   "source": [
    "def move_disk(from_peg, to_peg):\n",
    "    to_peg.append(from_peg.pop())\n",
    "    print(\"=============[Status]=============\")\n",
    "    print(\"[a]: \", a)\n",
    "    print(\"[b]: \", b)\n",
    "    print(\"[c]: \", c)\n",
    "\n",
    "def hanoi(n, from_peg, help_peg, to_peg):\n",
    "    if n == 1:\n",
    "        move_disk(from_peg, to_peg)\n",
    "    else:\n",
    "        hanoi(n-1, from_peg, to_peg, help_peg)\n",
    "        move_disk(from_peg, to_peg)\n",
    "        hanoi(n-1, help_peg, from_peg, to_peg)\n"
   ]
  },
  {
   "cell_type": "code",
   "execution_count": 77,
   "metadata": {
    "pycharm": {
     "is_executing": false
    }
   },
   "outputs": [
    {
     "name": "stdout",
     "output_type": "stream",
     "text": [
      "[a]:  [4, 3, 2, 1]\n",
      "[b]:  []\n",
      "[c]:  []\n"
     ]
    }
   ],
   "source": [
    "n = 4\n",
    "a = list(reversed(range(1,int(n)+1)))\n",
    "b = [];\n",
    "c = [];\n",
    "\n",
    "print(\"[a]: \", a)\n",
    "print(\"[b]: \", b)\n",
    "print(\"[c]: \", c)"
   ]
  },
  {
   "cell_type": "code",
   "execution_count": 78,
   "metadata": {
    "pycharm": {
     "is_executing": false
    },
    "scrolled": false
   },
   "outputs": [
    {
     "name": "stdout",
     "output_type": "stream",
     "text": [
      "=============[Status]=============\n",
      "[a]:  [4, 3, 2]\n",
      "[b]:  [1]\n",
      "[c]:  []\n",
      "=============[Status]=============\n",
      "[a]:  [4, 3]\n",
      "[b]:  [1]\n",
      "[c]:  [2]\n",
      "=============[Status]=============\n",
      "[a]:  [4, 3]\n",
      "[b]:  []\n",
      "[c]:  [2, 1]\n",
      "=============[Status]=============\n",
      "[a]:  [4]\n",
      "[b]:  [3]\n",
      "[c]:  [2, 1]\n",
      "=============[Status]=============\n",
      "[a]:  [4, 1]\n",
      "[b]:  [3]\n",
      "[c]:  [2]\n",
      "=============[Status]=============\n",
      "[a]:  [4, 1]\n",
      "[b]:  [3, 2]\n",
      "[c]:  []\n",
      "=============[Status]=============\n",
      "[a]:  [4]\n",
      "[b]:  [3, 2, 1]\n",
      "[c]:  []\n",
      "=============[Status]=============\n",
      "[a]:  []\n",
      "[b]:  [3, 2, 1]\n",
      "[c]:  [4]\n",
      "=============[Status]=============\n",
      "[a]:  []\n",
      "[b]:  [3, 2]\n",
      "[c]:  [4, 1]\n",
      "=============[Status]=============\n",
      "[a]:  [2]\n",
      "[b]:  [3]\n",
      "[c]:  [4, 1]\n",
      "=============[Status]=============\n",
      "[a]:  [2, 1]\n",
      "[b]:  [3]\n",
      "[c]:  [4]\n",
      "=============[Status]=============\n",
      "[a]:  [2, 1]\n",
      "[b]:  []\n",
      "[c]:  [4, 3]\n",
      "=============[Status]=============\n",
      "[a]:  [2]\n",
      "[b]:  [1]\n",
      "[c]:  [4, 3]\n",
      "=============[Status]=============\n",
      "[a]:  []\n",
      "[b]:  [1]\n",
      "[c]:  [4, 3, 2]\n",
      "=============[Status]=============\n",
      "[a]:  []\n",
      "[b]:  []\n",
      "[c]:  [4, 3, 2, 1]\n"
     ]
    }
   ],
   "source": [
    "hanoi(4, a, b, c)"
   ]
  },
  {
   "cell_type": "markdown",
   "metadata": {
    "pycharm": {}
   },
   "source": [
    "### C-4.18\n",
    "Use recursion to write a Python function for determining if a string $s$ has more vowels than consonants."
   ]
  },
  {
   "cell_type": "markdown",
   "metadata": {
    "pycharm": {
     "metadata": false,
     "name": "#%% md\n"
    }
   },
   "source": [
    "#### Solution"
   ]
  },
  {
   "cell_type": "code",
   "execution_count": 206,
   "metadata": {
    "pycharm": {
     "is_executing": false,
     "metadata": false,
     "name": "#%%\n"
    }
   },
   "outputs": [
    {
     "data": {
      "text/plain": [
       "['a', 'e', 'i', 'o', 'u']"
      ]
     },
     "execution_count": 206,
     "metadata": {},
     "output_type": "execute_result"
    }
   ],
   "source": [
    "VOWEL = ['a','e','i','o','u']\n",
    "VOWEL"
   ]
  },
  {
   "cell_type": "code",
   "execution_count": 277,
   "metadata": {
    "pycharm": {
     "is_executing": false,
     "name": "#%%\n"
    }
   },
   "outputs": [],
   "source": [
    "def more_vowels(s, vowels, consonants):\n",
    "    if not s:\n",
    "        vowel_count = len(vowels)\n",
    "        consonant_count = len(consonants)\n",
    "        return True if vowel_count > consonant_count else False\n",
    "    \n",
    "    if s[-1] in VOWEL:\n",
    "        vowels.append(s.pop())\n",
    "        return more_vowels(s, vowels, consonants)\n",
    "    else:\n",
    "        consonants.append(s.pop())\n",
    "        return more_vowels(s, vowels, consonants)\n"
   ]
  },
  {
   "cell_type": "code",
   "execution_count": 292,
   "metadata": {
    "pycharm": {
     "is_executing": false
    }
   },
   "outputs": [
    {
     "name": "stdout",
     "output_type": "stream",
     "text": [
      "False\n",
      "['e', 'a']\n",
      "['l', 'p', 'p']\n"
     ]
    }
   ],
   "source": [
    "string1_vowels = []\n",
    "string1_consonants = []\n",
    "string1 = list('apple')\n",
    "print(more_vowels(string1, string1_vowels, string1_consonants))\n",
    "print(string1_vowels)\n",
    "print(string1_consonants)"
   ]
  },
  {
   "cell_type": "code",
   "execution_count": 293,
   "metadata": {
    "pycharm": {
     "is_executing": false,
     "metadata": false,
     "name": "#%%\n"
    }
   },
   "outputs": [
    {
     "name": "stdout",
     "output_type": "stream",
     "text": [
      "True\n",
      "['o', 'e', 'a']\n",
      "['r']\n"
     ]
    }
   ],
   "source": [
    "string2_vowels = []\n",
    "string2_consonants = []\n",
    "string2 = list('aero')\n",
    "print(more_vowels(string2, string2_vowels, string2_consonants))\n",
    "print(string2_vowels)\n",
    "print(string2_consonants)\n"
   ]
  }
 ],
 "metadata": {
  "kernelspec": {
   "display_name": "Python 3",
   "language": "python",
   "name": "python3"
  },
  "language_info": {
   "codemirror_mode": {
    "name": "ipython",
    "version": 3
   },
   "file_extension": ".py",
   "mimetype": "text/x-python",
   "name": "python",
   "nbconvert_exporter": "python",
   "pygments_lexer": "ipython3",
   "version": "3.7.4"
  },
  "stem_cell": {
   "cell_type": "raw",
   "metadata": {
    "pycharm": {
     "metadata": false
    }
   },
   "source": ""
  }
 },
 "nbformat": 4,
 "nbformat_minor": 2
}
